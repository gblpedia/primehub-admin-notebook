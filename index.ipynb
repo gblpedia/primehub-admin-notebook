{
 "cells": [
  {
   "cell_type": "markdown",
   "metadata": {},
   "source": [
    "# Kubernetes Management Tasks\n",
    "\n",
    "This is a demo notebook for common kubernetes tasks.\n",
    "\n",
    "*Note: You should be aware of where and how the jupyter session is running, as kubernetes credentials are sensitive information and leakage posts security risks.*"
   ]
  },
  {
   "cell_type": "markdown",
   "metadata": {},
   "source": [
    "## Configure kubectl\n",
    "\n",
    "If you did not start this notebook with pre-configured KUBECONFIG, you may paste your `kubectl config view --raw --minify` output here.  Otherwise skip to the next section.\n",
    "\n",
    "Notes:\n",
    "1. if you use gke, your `kubectl config` contains a token that a valid for an hour. Run `kubectl get cs` to refresh token locally before copying the config."
   ]
  },
  {
   "cell_type": "code",
   "execution_count": null,
   "metadata": {},
   "outputs": [],
   "source": [
    "import tempfile\n",
    "import ipywidgets\n",
    "import os"
   ]
  },
  {
   "cell_type": "code",
   "execution_count": null,
   "metadata": {},
   "outputs": [],
   "source": [
    "kubeconfig = ipywidgets.Textarea(description='kubeconfig:', placeholder='kubectl config view --raw --minify | pbcopy')\n",
    "kubeconfig"
   ]
  },
  {
   "cell_type": "code",
   "execution_count": null,
   "metadata": {},
   "outputs": [],
   "source": [
    "temp = tempfile.NamedTemporaryFile(delete=False)\n",
    "temp.write(bytearray(kubeconfig.value, 'utf-8'))\n",
    "temp.close()\n",
    "\n",
    "os.environ['KUBECONFIG'] = temp.name"
   ]
  },
  {
   "cell_type": "markdown",
   "metadata": {},
   "source": [
    "## Check version and cluster health"
   ]
  },
  {
   "cell_type": "code",
   "execution_count": null,
   "metadata": {},
   "outputs": [],
   "source": [
    "!! ~/bin/kubectl version"
   ]
  },
  {
   "cell_type": "code",
   "execution_count": null,
   "metadata": {},
   "outputs": [],
   "source": [
    "!! ~/bin/kubectl get cs"
   ]
  },
  {
   "cell_type": "code",
   "execution_count": null,
   "metadata": {},
   "outputs": [],
   "source": [
    "!! ~/bin/kubectl get node"
   ]
  },
  {
   "cell_type": "markdown",
   "metadata": {},
   "source": [
    "## Delete user pvc"
   ]
  },
  {
   "cell_type": "code",
   "execution_count": null,
   "metadata": {},
   "outputs": [],
   "source": [
    "user_pvcs = !! ~/bin/kubectl get -l component=singleuser-storage  pvc -n hub -o jsonpath='{range.items[*]}{.metadata.name}{\"\\n\"}{end}'\n",
    "\n",
    "pvc = ipywidgets.Dropdown(\n",
    "    options=user_pvcs,\n",
    "    description='Target:',\n",
    "    disabled=False,\n",
    ")\n",
    "pvc"
   ]
  },
  {
   "cell_type": "code",
   "execution_count": null,
   "metadata": {},
   "outputs": [],
   "source": [
    "mounted_by = !! ~/bin/kubectl -n hub describe pvc {pvc.value} | grep -o 'jupyter-.*'\n",
    "mounted_by\n",
    "\n",
    "if mounted_by:\n",
    "    print(\"PVC %s can't be deleted because it's mounted by: %s\" % (pvc.value, mounted_by[0]))\n",
    "else:\n",
    "    result = !! ~/bin/kubectl -n hub delete pvc {pvc.value}\n",
    "    print(result)"
   ]
  },
  {
   "cell_type": "markdown",
   "metadata": {},
   "source": [
    "## Create pv-type dataset"
   ]
  },
  {
   "cell_type": "code",
   "execution_count": null,
   "metadata": {},
   "outputs": [],
   "source": [
    "pv_type_datasets = !! ~/bin/kubectl -n hub get datasets -o=custom-columns=VOLUME_NAME:spec.volumeName,NAME:metadata.name,TYPE:spec.type | grep -e 'pv$' | grep -v -e '^hostpath:' | awk '{print $1\",\"$2}'\n",
    "temp_datasets = {}\n",
    "for ds in pv_type_datasets:\n",
    "    [volume_name, name] = ds.split(',')\n",
    "    temp_datasets[name] = volume_name\n",
    "dataset_name = ipywidgets.Dropdown(\n",
    "    options=temp_datasets.keys(),\n",
    "    description='Target:',\n",
    "    disabled=False,\n",
    ")\n",
    "dataset_name"
   ]
  },
  {
   "cell_type": "code",
   "execution_count": null,
   "metadata": {},
   "outputs": [],
   "source": [
    "dataset_size = ipywidgets.IntText(description='Size:', value=200)\n",
    "dataset_size"
   ]
  },
  {
   "cell_type": "code",
   "execution_count": null,
   "metadata": {},
   "outputs": [],
   "source": [
    "is_rook_block = !! ~/bin/kubectl get sc | grep rook-block\n",
    "\n",
    "storage_class = 'rook-block' if is_rook_block else 'standard'\n",
    "storage_class"
   ]
  },
  {
   "cell_type": "code",
   "execution_count": null,
   "metadata": {},
   "outputs": [],
   "source": [
    "dataset_volume = temp_datasets[dataset_name.value]\n",
    "\n",
    "pv_type_dataset_yaml_string = '''apiVersion: v1\n",
    "kind: PersistentVolumeClaim\n",
    "metadata:\n",
    "  annotations:\n",
    "    primehub-group: dataset-%s\n",
    "    primehub-group-sc: %s\n",
    "  name: dataset-%s\n",
    "  namespace: hub\n",
    "spec:\n",
    "  accessModes:\n",
    "  - ReadWriteMany\n",
    "  dataSource: null\n",
    "  resources:\n",
    "    requests:\n",
    "      storage: %s\n",
    "  selector:\n",
    "    matchLabels:\n",
    "      primehub-group: dataset-%s\n",
    "      primehub-namespace: hub\n",
    "  storageClassName: ''\n",
    "''' % (dataset_volume, storage_class, dataset_volume, str(dataset_size.value)+'Gi', dataset_volume)\n",
    "print(pv_type_dataset_yaml_string)"
   ]
  },
  {
   "cell_type": "code",
   "execution_count": null,
   "metadata": {},
   "outputs": [],
   "source": [
    "!! echo \"{pv_type_dataset_yaml_string}\" | ~/bin/kubectl -n hub apply -f -"
   ]
  }
 ],
 "metadata": {
  "kernelspec": {
   "display_name": "Python 3",
   "language": "python",
   "name": "python3"
  },
  "language_info": {
   "codemirror_mode": {
    "name": "ipython",
    "version": 3
   },
   "file_extension": ".py",
   "mimetype": "text/x-python",
   "name": "python",
   "nbconvert_exporter": "python",
   "pygments_lexer": "ipython3",
   "version": "3.7.3"
  },
  "toc": {
   "base_numbering": 1,
   "nav_menu": {
    "height": "212px",
    "width": "245px"
   },
   "number_sections": true,
   "sideBar": true,
   "skip_h1_title": false,
   "title_cell": "Table of Contents",
   "title_sidebar": "Contents",
   "toc_cell": false,
   "toc_position": {
    "height": "calc(100% - 180px)",
    "left": "10px",
    "top": "150px",
    "width": "318.796875px"
   },
   "toc_section_display": true,
   "toc_window_display": true
  }
 },
 "nbformat": 4,
 "nbformat_minor": 2
}
