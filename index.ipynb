{
 "cells": [
  {
   "cell_type": "markdown",
   "metadata": {},
   "source": [
    "# Kubernetes Management Tasks\n",
    "\n",
    "This is a demo notebook for common kubernetes tasks.\n",
    "\n",
    "*Note: You should be aware of where and how the jupyter session is running, as kubernetes credentials are sensitive information and leakage posts security risks.*"
   ]
  },
  {
   "cell_type": "markdown",
   "metadata": {},
   "source": [
    "## Configure kubectl\n",
    "\n",
    "If you did not start this notebook with pre-configured KUBECONFIG, you may paste your `kubectl config view --raw --minify` output here.  Otherwise skip to the next section.\n",
    "\n",
    "Notes:\n",
    "1. if you use gke, your `kubectl config` contains a token that a valid for an hour. Run `kubectl get cs` to refresh token locally before copying the config."
   ]
  },
  {
   "cell_type": "code",
   "execution_count": 2,
   "metadata": {},
   "outputs": [],
   "source": [
    "import ipywidgets\n",
    "from kubeconfig import KubeConfig\n",
    "k = KubeConfig()\n",
    "k.test()"
   ]
  },
  {
   "cell_type": "code",
   "execution_count": 3,
   "metadata": {},
   "outputs": [
    {
     "name": "stdout",
     "output_type": "stream",
     "text": [
      "\u001b[0;32mKubernetes master\u001b[0m is running at \u001b[0;33mhttps://10.51.240.1:443\u001b[0m\n"
     ]
    },
    {
     "data": {
      "application/vnd.jupyter.widget-view+json": {
       "model_id": "8a5fb3f99215482a9e5f805efd10daf6",
       "version_major": 2,
       "version_minor": 0
      },
      "text/plain": [
       "Valid(value=True, description='Use existing service account.', layout=Layout(width='100%'), style=DescriptionS…"
      ]
     },
     "metadata": {},
     "output_type": "display_data"
    }
   ],
   "source": [
    "k.setup()"
   ]
  },
  {
   "cell_type": "markdown",
   "metadata": {},
   "source": [
    "## Check version and cluster health"
   ]
  },
  {
   "cell_type": "code",
   "execution_count": 4,
   "metadata": {},
   "outputs": [
    {
     "data": {
      "text/plain": [
       "['Client Version: version.Info{Major:\"1\", Minor:\"12\", GitVersion:\"v1.12.7\", GitCommit:\"6f482974b76db3f1e0f5d24605a9d1d38fad9a2b\", GitTreeState:\"clean\", BuildDate:\"2019-03-25T02:52:13Z\", GoVersion:\"go1.10.8\", Compiler:\"gc\", Platform:\"linux/amd64\"}',\n",
       " 'Server Version: version.Info{Major:\"1\", Minor:\"12+\", GitVersion:\"v1.12.7-gke.25\", GitCommit:\"d4c79083ab6dea5d26ef4ed8d50b145268349bc3\", GitTreeState:\"clean\", BuildDate:\"2019-06-22T16:10:31Z\", GoVersion:\"go1.10.8b4\", Compiler:\"gc\", Platform:\"linux/amd64\"}']"
      ]
     },
     "execution_count": 4,
     "metadata": {},
     "output_type": "execute_result"
    }
   ],
   "source": [
    "!! kubectl version"
   ]
  },
  {
   "cell_type": "code",
   "execution_count": null,
   "metadata": {},
   "outputs": [],
   "source": [
    "!! kubectl get cs"
   ]
  },
  {
   "cell_type": "code",
   "execution_count": null,
   "metadata": {},
   "outputs": [],
   "source": [
    "!! kubectl get node"
   ]
  },
  {
   "cell_type": "markdown",
   "metadata": {},
   "source": [
    "## Delete user pvc\n",
    "Run the cell to render a dropdown list, select user pvc for deletion."
   ]
  },
  {
   "cell_type": "code",
   "execution_count": 5,
   "metadata": {},
   "outputs": [
    {
     "data": {
      "application/vnd.jupyter.widget-view+json": {
       "model_id": "ecb7cfd315a24f52b5b3b64d10ac6561",
       "version_major": 2,
       "version_minor": 0
      },
      "text/plain": [
       "Dropdown(description='Target:', options=('claim-aaron', 'claim-clkao', 'claim-clkao-5ftest', 'claim-ctiml', 'c…"
      ]
     },
     "metadata": {},
     "output_type": "display_data"
    }
   ],
   "source": [
    "user_pvcs = !! kubectl get -l component=singleuser-storage  pvc -n hub -o jsonpath='{range.items[*]}{.metadata.name}{\"\\n\"}{end}'\n",
    "\n",
    "pvc = ipywidgets.Dropdown(\n",
    "    options=user_pvcs,\n",
    "    description='Target:',\n",
    "    disabled=False,\n",
    ")\n",
    "pvc"
   ]
  },
  {
   "cell_type": "markdown",
   "metadata": {},
   "source": [
    "Run the cell to execute the deletion."
   ]
  },
  {
   "cell_type": "code",
   "execution_count": null,
   "metadata": {},
   "outputs": [],
   "source": [
    "def execute():\n",
    "    if pvc.value is None:\n",
    "        print(\"No selected PVC\")\n",
    "        return\n",
    "\n",
    "    mounted_by = !! ~/bin/kubectl -n hub describe pvc {pvc.value} | grep -o 'jupyter-.*'\n",
    "\n",
    "    if mounted_by:\n",
    "        print(\"PVC %s can't be deleted because it's mounted by: %s\" % (pvc.value, mounted_by[0]))\n",
    "    else:\n",
    "        result = !! ~/bin/kubectl -n hub delete pvc {pvc.value}\n",
    "        print(result)\n",
    "\n",
    "execute()"
   ]
  },
  {
   "cell_type": "markdown",
   "metadata": {},
   "source": [
    "## Create pv-type dataset\n",
    "Run the cell to render a dropdown list, select Target where to create a dataset."
   ]
  },
  {
   "cell_type": "code",
   "execution_count": null,
   "metadata": {},
   "outputs": [],
   "source": [
    "pv_type_datasets = !! kubectl -n hub get datasets -o=custom-columns=VOLUME_NAME:spec.volumeName,NAME:metadata.name,TYPE:spec.type | grep -e 'pv$' | grep -v -e '^hostpath:' | awk '{print $1\",\"$2}'\n",
    "temp_datasets = {}\n",
    "for ds in pv_type_datasets:\n",
    "    [volume_name, name] = ds.split(',')\n",
    "    temp_datasets[name] = volume_name\n",
    "dataset_name = ipywidgets.Dropdown(\n",
    "    options=temp_datasets.keys(),\n",
    "    description='Target:',\n",
    "    disabled=False,\n",
    ")\n",
    "dataset_name"
   ]
  },
  {
   "cell_type": "markdown",
   "metadata": {},
   "source": [
    "Run the cell to render a input field of `dataset size`, specify a size for the dataset which we want to create."
   ]
  },
  {
   "cell_type": "code",
   "execution_count": 6,
   "metadata": {},
   "outputs": [
    {
     "data": {
      "application/vnd.jupyter.widget-view+json": {
       "model_id": "9b75ac3305694b4eb8b2af610789a604",
       "version_major": 2,
       "version_minor": 0
      },
      "text/plain": [
       "IntText(value=200, description='Size:')"
      ]
     },
     "metadata": {},
     "output_type": "display_data"
    }
   ],
   "source": [
    "dataset_size = ipywidgets.IntText(description='Size:', value=200)\n",
    "dataset_size"
   ]
  },
  {
   "cell_type": "markdown",
   "metadata": {},
   "source": [
    "Run the cell to determine the `storage_class`."
   ]
  },
  {
   "cell_type": "code",
   "execution_count": null,
   "metadata": {},
   "outputs": [],
   "source": [
    "is_rook_block = !! kubectl get sc | grep rook-block\n",
    "\n",
    "storage_class = 'rook-block' if is_rook_block else 'standard'\n",
    "storage_class"
   ]
  },
  {
   "cell_type": "markdown",
   "metadata": {},
   "source": [
    "Run the cell to generate a yaml string of configuration."
   ]
  },
  {
   "cell_type": "code",
   "execution_count": null,
   "metadata": {},
   "outputs": [],
   "source": [
    "dataset_volume = temp_datasets[dataset_name.value]\n",
    "\n",
    "pv_type_dataset_yaml_string = '''apiVersion: v1\n",
    "kind: PersistentVolumeClaim\n",
    "metadata:\n",
    "  annotations:\n",
    "    primehub-group: dataset-%s\n",
    "    primehub-group-sc: %s\n",
    "  name: dataset-%s\n",
    "  namespace: hub\n",
    "spec:\n",
    "  accessModes:\n",
    "  - ReadWriteMany\n",
    "  dataSource: null\n",
    "  resources:\n",
    "    requests:\n",
    "      storage: %s\n",
    "  selector:\n",
    "    matchLabels:\n",
    "      primehub-group: dataset-%s\n",
    "      primehub-namespace: hub\n",
    "  storageClassName: ''\n",
    "''' % (dataset_volume, storage_class, dataset_volume, str(dataset_size.value)+'Gi', dataset_volume)\n",
    "print(pv_type_dataset_yaml_string)"
   ]
  },
  {
   "cell_type": "markdown",
   "metadata": {},
   "source": [
    "Run the cell to apply generated yaml for dataset creation."
   ]
  },
  {
   "cell_type": "code",
   "execution_count": null,
   "metadata": {},
   "outputs": [],
   "source": [
    "!! echo \"{pv_type_dataset_yaml_string}\" | kubectl -n hub apply -f -"
   ]
  }
 ],
 "metadata": {
  "kernelspec": {
   "display_name": "Python 3",
   "language": "python",
   "name": "python3"
  },
  "language_info": {
   "codemirror_mode": {
    "name": "ipython",
    "version": 3
   },
   "file_extension": ".py",
   "mimetype": "text/x-python",
   "name": "python",
   "nbconvert_exporter": "python",
   "pygments_lexer": "ipython3",
   "version": "3.7.3"
  },
  "toc": {
   "base_numbering": 1,
   "nav_menu": {
    "height": "212px",
    "width": "245px"
   },
   "number_sections": true,
   "sideBar": true,
   "skip_h1_title": false,
   "title_cell": "Table of Contents",
   "title_sidebar": "Contents",
   "toc_cell": false,
   "toc_position": {
    "height": "calc(100% - 180px)",
    "left": "10px",
    "top": "150px",
    "width": "318.796875px"
   },
   "toc_section_display": true,
   "toc_window_display": true
  }
 },
 "nbformat": 4,
 "nbformat_minor": 2
}
